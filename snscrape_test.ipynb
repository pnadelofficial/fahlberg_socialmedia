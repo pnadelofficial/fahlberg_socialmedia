{
 "cells": [
  {
   "cell_type": "code",
   "execution_count": 1,
   "metadata": {},
   "outputs": [],
   "source": [
    "from snscrape.modules.twitter import TwitterTweetScraperMode\n",
    "import snscrape.modules.twitter as sntwitter"
   ]
  },
  {
   "cell_type": "code",
   "execution_count": 2,
   "metadata": {},
   "outputs": [],
   "source": [
    "tweet_gen = sntwitter.TwitterTweetScraper('1640239129320386560', mode=TwitterTweetScraperMode.RECURSE).get_items()"
   ]
  },
  {
   "cell_type": "code",
   "execution_count": 3,
   "metadata": {},
   "outputs": [
    {
     "ename": "ValueError",
     "evalue": "invalid literal for int() with base 10: '1653322446659891200-1023fd780b26268f'",
     "output_type": "error",
     "traceback": [
      "\u001b[0;31m---------------------------------------------------------------------------\u001b[0m",
      "\u001b[0;31mValueError\u001b[0m                                Traceback (most recent call last)",
      "Cell \u001b[0;32mIn[3], line 2\u001b[0m\n\u001b[1;32m      1\u001b[0m tweet_dict \u001b[39m=\u001b[39m {}\n\u001b[0;32m----> 2\u001b[0m \u001b[39mfor\u001b[39;00m i, tweet \u001b[39min\u001b[39;00m \u001b[39menumerate\u001b[39m(tweet_gen):\n\u001b[1;32m      3\u001b[0m     \u001b[39mtry\u001b[39;00m:\n\u001b[1;32m      4\u001b[0m         tweet_dict[\u001b[39mf\u001b[39m\u001b[39m'\u001b[39m\u001b[39mTweet \u001b[39m\u001b[39m{\u001b[39;00mi\u001b[39m+\u001b[39m\u001b[39m1\u001b[39m\u001b[39m}\u001b[39;00m\u001b[39m'\u001b[39m] \u001b[39m=\u001b[39m tweet \n",
      "File \u001b[0;32m~/miniconda3/envs/sm_scrape/lib/python3.9/site-packages/snscrape/modules/twitter.py:1969\u001b[0m, in \u001b[0;36mTwitterTweetScraper.get_items\u001b[0;34m(self)\u001b[0m\n\u001b[1;32m   1967\u001b[0m \u001b[39mif\u001b[39;00m \u001b[39mnot\u001b[39;00m obj[\u001b[39m'\u001b[39m\u001b[39mdata\u001b[39m\u001b[39m'\u001b[39m]:\n\u001b[1;32m   1968\u001b[0m \t\u001b[39mcontinue\u001b[39;00m\n\u001b[0;32m-> 1969\u001b[0m \u001b[39mfor\u001b[39;00m tweet \u001b[39min\u001b[39;00m \u001b[39mself\u001b[39m\u001b[39m.\u001b[39m_graphql_timeline_instructions_to_tweets(obj[\u001b[39m'\u001b[39m\u001b[39mdata\u001b[39m\u001b[39m'\u001b[39m][\u001b[39m'\u001b[39m\u001b[39mthreaded_conversation_with_injections_v2\u001b[39m\u001b[39m'\u001b[39m][\u001b[39m'\u001b[39m\u001b[39minstructions\u001b[39m\u001b[39m'\u001b[39m], includeConversationThreads \u001b[39m=\u001b[39m \u001b[39mTrue\u001b[39;00m):\n\u001b[1;32m   1970\u001b[0m \t\u001b[39mif\u001b[39;00m tweet\u001b[39m.\u001b[39mid \u001b[39mnot\u001b[39;00m \u001b[39min\u001b[39;00m seenTweets:\n\u001b[1;32m   1971\u001b[0m \t\t\u001b[39myield\u001b[39;00m tweet\n",
      "File \u001b[0;32m~/miniconda3/envs/sm_scrape/lib/python3.9/site-packages/snscrape/modules/twitter.py:1470\u001b[0m, in \u001b[0;36m_TwitterAPIScraper._graphql_timeline_instructions_to_tweets\u001b[0;34m(self, instructions, includeConversationThreads)\u001b[0m\n\u001b[1;32m   1468\u001b[0m \t\u001b[39mfor\u001b[39;00m item \u001b[39min\u001b[39;00m entry[\u001b[39m'\u001b[39m\u001b[39mcontent\u001b[39m\u001b[39m'\u001b[39m][\u001b[39m'\u001b[39m\u001b[39mitems\u001b[39m\u001b[39m'\u001b[39m]:\n\u001b[1;32m   1469\u001b[0m \t\t\u001b[39mif\u001b[39;00m item[\u001b[39m'\u001b[39m\u001b[39mentryId\u001b[39m\u001b[39m'\u001b[39m]\u001b[39m.\u001b[39mstartswith(\u001b[39mf\u001b[39m\u001b[39m'\u001b[39m\u001b[39m{\u001b[39;00mentry[\u001b[39m\"\u001b[39m\u001b[39mentryId\u001b[39m\u001b[39m\"\u001b[39m]\u001b[39m}\u001b[39;00m\u001b[39m-tweet-\u001b[39m\u001b[39m'\u001b[39m):\n\u001b[0;32m-> 1470\u001b[0m \t\t\ttweetId \u001b[39m=\u001b[39m \u001b[39mint\u001b[39;49m(item[\u001b[39m'\u001b[39;49m\u001b[39mentryId\u001b[39;49m\u001b[39m'\u001b[39;49m][\u001b[39mlen\u001b[39;49m(entry[\u001b[39m'\u001b[39;49m\u001b[39mentryId\u001b[39;49m\u001b[39m'\u001b[39;49m]) \u001b[39m+\u001b[39;49m \u001b[39m7\u001b[39;49m:])\n\u001b[1;32m   1471\u001b[0m \t\t\t\u001b[39myield\u001b[39;00m \u001b[39mself\u001b[39m\u001b[39m.\u001b[39m_graphql_timeline_tweet_item_result_to_tweet(item[\u001b[39m'\u001b[39m\u001b[39mitem\u001b[39m\u001b[39m'\u001b[39m][\u001b[39m'\u001b[39m\u001b[39mitemContent\u001b[39m\u001b[39m'\u001b[39m][\u001b[39m'\u001b[39m\u001b[39mtweet_results\u001b[39m\u001b[39m'\u001b[39m][\u001b[39m'\u001b[39m\u001b[39mresult\u001b[39m\u001b[39m'\u001b[39m], tweetId \u001b[39m=\u001b[39m tweetId)\n\u001b[1;32m   1472\u001b[0m \u001b[39melif\u001b[39;00m \u001b[39mnot\u001b[39;00m entry[\u001b[39m'\u001b[39m\u001b[39mentryId\u001b[39m\u001b[39m'\u001b[39m]\u001b[39m.\u001b[39mstartswith(\u001b[39m'\u001b[39m\u001b[39mcursor-\u001b[39m\u001b[39m'\u001b[39m):\n",
      "\u001b[0;31mValueError\u001b[0m: invalid literal for int() with base 10: '1653322446659891200-1023fd780b26268f'"
     ]
    }
   ],
   "source": [
    "tweet_dict = {}\n",
    "for i, tweet in enumerate(tweet_gen):\n",
    "    try:\n",
    "        tweet_dict[f'Tweet {i+1}'] = tweet \n",
    "    except:\n",
    "        pass"
   ]
  },
  {
   "cell_type": "code",
   "execution_count": null,
   "metadata": {},
   "outputs": [],
   "source": []
  }
 ],
 "metadata": {
  "kernelspec": {
   "display_name": "Python 3.11.3 ('sm_scrape')",
   "language": "python",
   "name": "python3"
  },
  "language_info": {
   "codemirror_mode": {
    "name": "ipython",
    "version": 3
   },
   "file_extension": ".py",
   "mimetype": "text/x-python",
   "name": "python",
   "nbconvert_exporter": "python",
   "pygments_lexer": "ipython3",
   "version": "3.9.16"
  },
  "orig_nbformat": 4,
  "vscode": {
   "interpreter": {
    "hash": "415a44414f563ecf9ba46ff5e4135ffc88be5696b74300382629a535b8530d66"
   }
  }
 },
 "nbformat": 4,
 "nbformat_minor": 2
}
